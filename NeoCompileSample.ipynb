{
 "cells": [
  {
   "cell_type": "markdown",
   "metadata": {},
   "source": [
    "# Keras を 使った mnist 分類器の Neo コンパイルとコンパイルモデルの推論\n",
    "* まずは Neo を前提条件である (keras の場合) Keras 2.2.4 と neo モデルのランタイム(dlr) を インストール"
   ]
  },
  {
   "cell_type": "code",
   "execution_count": null,
   "metadata": {
    "scrolled": true
   },
   "outputs": [],
   "source": [
    "!pip install -U keras==2.2.4\n",
    "!pip install matplotlib\n",
    "!pip install dlr"
   ]
  },
  {
   "cell_type": "code",
   "execution_count": null,
   "metadata": {},
   "outputs": [],
   "source": [
    "import tensorflow as tf\n",
    "from sagemaker.tensorflow import TensorFlow\n",
    "from tensorflow.keras.datasets import mnist\n",
    "import numpy as np\n",
    "from matplotlib import pyplot as plt\n",
    "import keras\n",
    "import sagemaker, os\n",
    "from time import sleep\n",
    "from uuid import uuid4\n",
    "import dlr\n",
    "print(keras.__version__)\n",
    "print(tf.__version__)"
   ]
  },
  {
   "cell_type": "code",
   "execution_count": null,
   "metadata": {},
   "outputs": [],
   "source": [
    "work_dir = './work'\n",
    "!mkdir -p {work_dir}\n",
    "\n",
    "TRAIN_X_PATH = os.path.join(work_dir,'train_X.npy')\n",
    "TEST_X_PATH = os.path.join(work_dir,'test_X.npy')\n",
    "TRAIN_Y_PATH = os.path.join(work_dir,'train_y.npy')\n",
    "TEST_Y_PATH = os.path.join(work_dir,'test_y.npy')\n",
    "(train_X, train_y), (test_X, test_y) = mnist.load_data()\n",
    "train_X = (train_X-127.5)/127.5\n",
    "test_X = (test_X-127.5)/127.5\n",
    "# channel last\n",
    "train_X = train_X.reshape((train_X.shape[0],train_X.shape[1],train_X.shape[2],1))\n",
    "test_X = test_X.reshape((test_X.shape[0],test_X.shape[1],test_X.shape[2],1))\n",
    "# one-hot\n",
    "train_y = np.eye(10)[train_y]\n",
    "test_y = np.eye(10)[test_y]\n",
    "np.save(TRAIN_X_PATH,train_X)\n",
    "np.save(TEST_X_PATH,test_X)\n",
    "np.save(TRAIN_Y_PATH,train_y)\n",
    "np.save(TEST_Y_PATH,test_y)"
   ]
  },
  {
   "cell_type": "code",
   "execution_count": null,
   "metadata": {},
   "outputs": [],
   "source": [
    "# check shapes\n",
    "print(train_X.shape,train_y.shape,test_X.shape,test_y.shape)"
   ]
  },
  {
   "cell_type": "code",
   "execution_count": null,
   "metadata": {},
   "outputs": [],
   "source": [
    "role = sagemaker.get_execution_role()\n",
    "sess = sagemaker.session.Session()\n",
    "train_X_uri = sess.upload_data(path=TRAIN_X_PATH, bucket=sess.default_bucket(), key_prefix='sagemaker/mnist')\n",
    "train_y_uri = sess.upload_data(path=TRAIN_Y_PATH, bucket=sess.default_bucket(), key_prefix='sagemaker/mnist')\n",
    "test_X_uri = sess.upload_data(path=TEST_X_PATH, bucket=sess.default_bucket(), key_prefix='sagemaker/mnist')\n",
    "test_y_uri = sess.upload_data(path=TEST_Y_PATH, bucket=sess.default_bucket(), key_prefix='sagemaker/mnist')\n",
    "print(train_X_uri)\n",
    "print(train_y_uri)\n",
    "print(test_X_uri)\n",
    "print(test_y_uri)"
   ]
  },
  {
   "cell_type": "markdown",
   "metadata": {},
   "source": [
    "## Classifier Train"
   ]
  },
  {
   "cell_type": "code",
   "execution_count": null,
   "metadata": {},
   "outputs": [],
   "source": [
    "estimator = TensorFlow(\n",
    "    entry_point='./src/classifier_train.py',\n",
    "    role=role,\n",
    "    instance_count=1,\n",
    "    instance_type='ml.g4dn.xlarge',\n",
    "    framework_version='1.13', # SageMaker Neo を使うために keras 2.2.4 に合わせる\n",
    "    py_version='py3',\n",
    "    hyperparameters={\n",
    "        'epochs':30,\n",
    "        'increment':'False'\n",
    "    }\n",
    ")"
   ]
  },
  {
   "cell_type": "code",
   "execution_count": null,
   "metadata": {
    "scrolled": true
   },
   "outputs": [],
   "source": [
    "%%time\n",
    "\n",
    "print(train_X_uri[:-11]) # dir以下全て\n",
    "estimator.fit({\n",
    "    'train': train_X_uri[:-11],\n",
    "})"
   ]
  },
  {
   "cell_type": "code",
   "execution_count": null,
   "metadata": {},
   "outputs": [],
   "source": [
    "classifier_model_uri = estimator.latest_training_job.describe()['ModelArtifacts']['S3ModelArtifacts']\n",
    "print(classifier_model_uri)"
   ]
  },
  {
   "cell_type": "markdown",
   "metadata": {},
   "source": [
    "## Compile"
   ]
  },
  {
   "cell_type": "code",
   "execution_count": null,
   "metadata": {},
   "outputs": [],
   "source": [
    "import boto3\n",
    "sm_client = boto3.client('sagemaker')"
   ]
  },
  {
   "cell_type": "code",
   "execution_count": null,
   "metadata": {},
   "outputs": [],
   "source": [
    "classifier_output_s3_location = f's3://{sagemaker.session.Session().default_bucket()}/sagemaker/mnist/classifier/compilied_model'\n",
    "print(classifier_output_s3_location)"
   ]
  },
  {
   "cell_type": "markdown",
   "metadata": {},
   "source": [
    "### Classifier のコンパイル"
   ]
  },
  {
   "cell_type": "code",
   "execution_count": null,
   "metadata": {},
   "outputs": [],
   "source": [
    "classifier_compile_jobname = f'classifier-{str(uuid4())}'\n",
    "print(classifier_compile_jobname)\n",
    "response = sm_client.create_compilation_job(\n",
    "    CompilationJobName=classifier_compile_jobname,\n",
    "    RoleArn=role,\n",
    "    InputConfig={\n",
    "        'S3Uri': classifier_model_uri,\n",
    "        'DataInputConfig': '{\"input_1\":[1,1,28,28]}',\n",
    "        'Framework': 'KERAS',\n",
    "    },\n",
    "    OutputConfig={\n",
    "        'S3OutputLocation': classifier_output_s3_location,\n",
    "        'TargetDevice': 'ml_c5',\n",
    "    },\n",
    "    StoppingCondition={\n",
    "        'MaxRuntimeInSeconds': 900,\n",
    "        'MaxWaitTimeInSeconds': 900\n",
    "    },\n",
    ")"
   ]
  },
  {
   "cell_type": "markdown",
   "metadata": {},
   "source": [
    "### コンパイルの完了待ち"
   ]
  },
  {
   "cell_type": "code",
   "execution_count": null,
   "metadata": {},
   "outputs": [],
   "source": [
    "while True:\n",
    "    response = sm_client.describe_compilation_job(CompilationJobName=classifier_compile_jobname)\n",
    "    status = response['CompilationJobStatus']\n",
    "    if status in ['COMPLETED','FAILED','STOPPED'] : \n",
    "        print('!')\n",
    "        print(status)\n",
    "        classifier_neo_model_uri = response['ModelArtifacts']['S3ModelArtifacts']\n",
    "        break\n",
    "    else:\n",
    "        print('.',end='')\n",
    "    sleep(5)\n",
    "print(classifier_neo_model_uri)"
   ]
  },
  {
   "cell_type": "markdown",
   "metadata": {},
   "source": [
    "### ファイルの配置"
   ]
  },
  {
   "cell_type": "code",
   "execution_count": null,
   "metadata": {
    "scrolled": true
   },
   "outputs": [],
   "source": [
    "neo_dir = './neo_model'\n",
    "\n",
    "# classifier download\n",
    "!aws s3 cp {classifier_model_uri} {work_dir}/\n",
    "!tar zxvf {work_dir}/model.tar.gz -C ./\n",
    "\n",
    "\n",
    "!aws s3 cp {classifier_neo_model_uri} {work_dir}/\n",
    "!mkdir -p {neo_dir}\n",
    "!tar zxvf {work_dir}/model-ml_c5.tar.gz -C {neo_dir}\n",
    "!rm {work_dir}/model-ml_c5.tar.gz"
   ]
  },
  {
   "cell_type": "code",
   "execution_count": null,
   "metadata": {},
   "outputs": [],
   "source": [
    "classifier_output_s3_location"
   ]
  },
  {
   "cell_type": "markdown",
   "metadata": {},
   "source": [
    "## 動作確認\n",
    "### keras model"
   ]
  },
  {
   "cell_type": "code",
   "execution_count": null,
   "metadata": {
    "scrolled": true
   },
   "outputs": [],
   "source": [
    "keras_model = keras.models.load_model('classifier.h5')"
   ]
  },
  {
   "cell_type": "code",
   "execution_count": null,
   "metadata": {},
   "outputs": [],
   "source": [
    "np.argmax(keras_model.predict(test_X[0:1,:,:,:]))"
   ]
  },
  {
   "cell_type": "markdown",
   "metadata": {},
   "source": [
    "### Neo Model"
   ]
  },
  {
   "cell_type": "code",
   "execution_count": null,
   "metadata": {},
   "outputs": [],
   "source": [
    "import dlr\n",
    "import numpy as np\n",
    "\n",
    "classifier_neo = dlr.DLRModel(neo_dir, 'cpu', 0)"
   ]
  },
  {
   "cell_type": "code",
   "execution_count": null,
   "metadata": {},
   "outputs": [],
   "source": [
    "pred_y = classifier_neo.run(test_X[0,:,:,:].reshape(1,1,28,28))[0]\n",
    "np.argmax(pred_y)"
   ]
  },
  {
   "cell_type": "markdown",
   "metadata": {},
   "source": [
    "# 推論結果比較\n",
    "微妙に差異がある"
   ]
  },
  {
   "cell_type": "code",
   "execution_count": null,
   "metadata": {},
   "outputs": [],
   "source": [
    "keras_model.predict(test_X[0:1,:,:,:]),classifier_neo.run(test_X[0,:,:,:].reshape(1,1,28,28))[0]"
   ]
  },
  {
   "cell_type": "code",
   "execution_count": null,
   "metadata": {},
   "outputs": [],
   "source": []
  }
 ],
 "metadata": {
  "instance_type": "ml.c5.large",
  "kernelspec": {
   "display_name": "Python 3 (TensorFlow 1.15 Python 3.7 CPU Optimized)",
   "language": "python",
   "name": "python3__SAGEMAKER_INTERNAL__arn:aws:sagemaker:ap-northeast-1:102112518831:image/tensorflow-1.15-cpu-py37-ubuntu18.04-v7"
  },
  "language_info": {
   "codemirror_mode": {
    "name": "ipython",
    "version": 3
   },
   "file_extension": ".py",
   "mimetype": "text/x-python",
   "name": "python",
   "nbconvert_exporter": "python",
   "pygments_lexer": "ipython3",
   "version": "3.7.10"
  }
 },
 "nbformat": 4,
 "nbformat_minor": 5
}
